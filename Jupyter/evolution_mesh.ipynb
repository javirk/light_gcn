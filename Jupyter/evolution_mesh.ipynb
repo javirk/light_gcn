{
 "cells": [
  {
   "cell_type": "code",
   "execution_count": 193,
   "id": "c65fbc3a",
   "metadata": {},
   "outputs": [],
   "source": [
    "import meshio\n",
    "import torch\n",
    "import torch_geometric\n",
    "from torch_geometric.data import Data\n",
    "from torch_geometric.utils import to_undirected\n",
    "from torch_geometric.transforms import FaceToEdge\n",
    "import matplotlib.pyplot as plt\n",
    "%matplotlib notebook\n",
    "from itertools import combinations\n",
    "from einops import rearrange"
   ]
  },
  {
   "cell_type": "code",
   "execution_count": 283,
   "id": "a9b17848",
   "metadata": {},
   "outputs": [],
   "source": [
    "class TetraToEdge(object):\n",
    "    r\"\"\"Converts mesh tetras :obj:`[4, num_tetras]` to edge indices\n",
    "    :obj:`[2, num_edges]`.\n",
    "    Args:\n",
    "        remove_tetras (bool, optional): If set to :obj:`False`, the tetra tensor\n",
    "            will not be removed.\n",
    "    \"\"\"\n",
    "\n",
    "    def __init__(self, remove_tetras=True):\n",
    "        self.remove_tetras = remove_tetras\n",
    "\n",
    "    def __call__(self, data):\n",
    "        if data.tetra is not None:\n",
    "            tetra = data.tetra\n",
    "            edge_index = torch.cat([tetra[:2], tetra[1:3, :], tetra[-2:], tetra[::2], tetra[::3], tetra[1::2]], dim=1)\n",
    "            edge_index = to_undirected(edge_index, num_nodes=data.num_nodes)\n",
    "\n",
    "            data.edge_index = edge_index\n",
    "            if self.remove_tetras:\n",
    "                data.tetra = None\n",
    "\n",
    "        return data\n",
    "\n",
    "    def __repr__(self):\n",
    "        return '{}()'.format(self.__class__.__name__)\n",
    "\n",
    "class TetraToNeighbors(object):\n",
    "    \"\"\"Converts a graph of tetrahedrons to two matrixes: the faces of each tetrahedron (Tx4) and \n",
    "    the tetrahedrons that share a face (Fx2)\"\"\"\n",
    "    def __init__(self):\n",
    "        pass\n",
    "    \n",
    "    def __call__(self, data):\n",
    "        \"\"\"\n",
    "        return:\n",
    "        tetra_face: torch.Tensor(num_tetra, 4). Connects tetrahedrons (idx) to their faces (values)\n",
    "        face_tetra: torch.Tensor(num_faces, 2). Connects faces (idx) to the tetrahedrons that share them (values).\n",
    "            Each face must belong to at most 2 tetrahedrons. -1 where there is no tetrahedron i.e. at the edge.\n",
    "        \"\"\"\n",
    "        assert data.tetra is not None, 'The graph must have tetrahedron data'\n",
    "        N_tetra = data.tetra.shape[1]\n",
    "        tetra_face = torch.tensor(list(range(N_tetra * 4)), dtype=torch.int64).reshape(N_tetra, 4)\n",
    "        face_tetra = - torch.ones((4 * N_tetra, 2), dtype=torch.int64)\n",
    "        \n",
    "        i_face = 0\n",
    "        combs = list(combinations(range(4), 3))\n",
    "        for i_tetra in range(N_tetra):\n",
    "            vtx_tetra = data.tetra[:, i_tetra]\n",
    "            for i, j, k in combs:\n",
    "                i_v = vtx_tetra[i]\n",
    "                j_v = vtx_tetra[j]\n",
    "                k_v = vtx_tetra[k]\n",
    "                adj_tetra = torch.where((data.tetra == i_v).any(0) & (data.tetra == j_v).any(0) & \n",
    "                                        (data.tetra == k_v).any(0))[0]\n",
    "\n",
    "                if len(adj_tetra) == 1:\n",
    "                    face_tetra[i_face, 0] = adj_tetra\n",
    "                else: # 2. Maximum is 2 and 0 is impossible.\n",
    "                    face_tetra[i_face] = adj_tetra\n",
    "                i_face += 1\n",
    "        \n",
    "        data.tetra_face = tetra_face\n",
    "        data.face_tetra = face_tetra\n",
    "        return data\n",
    "    \n",
    "    def __repr__(self):\n",
    "        return '{}()'.format(self.__class__.__name__)\n",
    "    \n",
    "class TetraCoordinates(object):\n",
    "    r\"\"\"\n",
    "    Given a list of the xyz coordinates of the vertices of a tetrahedron, \n",
    "    return tetrahedron coordinate system\n",
    "    \"\"\"\n",
    "\n",
    "    def __init__(self):\n",
    "        pass\n",
    "\n",
    "    def __call__(self, data):\n",
    "        # This can be done in one line, but...\n",
    "        ori = data.pos[data.tetra[0]]\n",
    "        v1 = data.pos[data.tetra[1]] - ori\n",
    "        v2 = data.pos[data.tetra[2]] - ori\n",
    "        v3 = data.pos[data.tetra[3]] - ori\n",
    "\n",
    "        v1r = v1.T.reshape((3, 1, num_tetra))\n",
    "        v2r = v2.T.reshape((3, 1, num_tetra))\n",
    "        v3r = v3.T.reshape((3, 1, num_tetra))\n",
    "        # mat defines an affine transform from the tetrahedron to the orthogonal system\n",
    "        mat = torch.cat((v1r, v2r, v3r), dim=1)\n",
    "        # The inverse matrix does the opposite (from orthogonal to tetrahedron)\n",
    "        inv_mat = torch.linalg.inv(mat.T).T \n",
    "        \n",
    "        data.ort_tetra = inv_mat\n",
    "        data.origin = ori\n",
    "        return data\n",
    "\n",
    "    def __repr__(self):\n",
    "        return '{}()'.format(self.__class__.__name__)"
   ]
  },
  {
   "cell_type": "code",
   "execution_count": 284,
   "id": "c4eea00c-a740-4691-b509-e6952e573037",
   "metadata": {},
   "outputs": [],
   "source": [
    "def from_meshio(mesh, mesh_type='2D'):\n",
    "    r\"\"\"Converts a :.msh file to a\n",
    "    :class:`torch_geometric.data.Data` instance.\n",
    "\n",
    "    Args:\n",
    "        mesh (meshio.read): A :obj:`meshio` mesh.\n",
    "    \"\"\"\n",
    "\n",
    "    if meshio is None:\n",
    "        raise ImportError('Package `meshio` could not be found.')\n",
    "\n",
    "    pos = torch.from_numpy(mesh.points).to(torch.float)\n",
    "    if mesh_type == '3D':\n",
    "        tetra = torch.from_numpy(mesh.cells_dict['tetra']).to(torch.long).t().contiguous()\n",
    "        #face = torch.from_numpy(mesh.cells_dict['triangle']).to(torch.long).t().contiguous()\n",
    "        return Data(pos=pos, tetra=tetra)\n",
    "    elif mesh_type == '2D':\n",
    "        face = torch.from_numpy(mesh.cells_dict['triangle']).to(torch.long).t().contiguous()\n",
    "        return Data(pos=pos, face=face)"
   ]
  },
  {
   "cell_type": "code",
   "execution_count": 285,
   "id": "2b946547-0212-4d46-a7f6-c1c218c0ce29",
   "metadata": {},
   "outputs": [],
   "source": [
    "mesh_type = '3D'\n",
    "filename = '../meshes/sphere_coarse.msh'\n",
    "\n",
    "mesh = meshio.read(filename)\n",
    "\n",
    "data = from_meshio(mesh, mesh_type=mesh_type)\n",
    "\n",
    "data = TetraToEdge(remove_tetras=False)(data)\n",
    "data = TetraToNeighbors()(data)\n",
    "data = TetraCoordinates()(data)"
   ]
  },
  {
   "cell_type": "code",
   "execution_count": 286,
   "id": "046a7855",
   "metadata": {},
   "outputs": [],
   "source": [
    "def get_neighbour_tetra(data, current_tetra, exit_face_local):\n",
    "    exit_face = data.tetra_face[current_tetra, exit_face_local]  # Face number 2 in the local space of the tetrahedron\n",
    "    return data.face_tetra[exit_face]"
   ]
  },
  {
   "cell_type": "code",
   "execution_count": 339,
   "id": "298541c5",
   "metadata": {},
   "outputs": [],
   "source": [
    "def find_tetrahedron_point(data, point):\n",
    "    n_p = point.shape[0]\n",
    "    orir = torch.repeat_interleave(data.origin.unsqueeze(-1), n_p, axis=2)\n",
    "    newp = torch.einsum('imk, kmj -> kij', data.ort_tetra, point.T - orir)\n",
    "    val = torch.all(newp >= 0, dim=1) & torch.all(newp <=1, dim=1) & (torch.sum(newp, dim=1) <= 1)\n",
    "    return torch.nonzero(val)"
   ]
  },
  {
   "cell_type": "code",
   "execution_count": 224,
   "id": "94e852b3",
   "metadata": {},
   "outputs": [],
   "source": [
    "rp = torch.tensor([[0, 0., 1.]])"
   ]
  },
  {
   "cell_type": "code",
   "execution_count": 292,
   "id": "c1cdec12",
   "metadata": {},
   "outputs": [
    {
     "data": {
      "text/plain": [
       "tensor(1323)"
      ]
     },
     "execution_count": 292,
     "metadata": {},
     "output_type": "execute_result"
    }
   ],
   "source": [
    "find_tetrahedron_point(data, rp)"
   ]
  },
  {
   "cell_type": "markdown",
   "id": "c9aca3f6",
   "metadata": {},
   "source": [
    "### Ahora empieza "
   ]
  },
  {
   "cell_type": "code",
   "execution_count": 317,
   "id": "423c4d44",
   "metadata": {},
   "outputs": [],
   "source": [
    "num_nodes = data.pos.shape[0]\n",
    "num_tetra = data.tetra.shape[1]"
   ]
  },
  {
   "cell_type": "code",
   "execution_count": 318,
   "id": "1a94fcb4",
   "metadata": {},
   "outputs": [],
   "source": [
    "coords_vertex_tetra = rearrange(data.pos[data.tetra], 'v t c -> t c v')"
   ]
  },
  {
   "cell_type": "code",
   "execution_count": 319,
   "id": "9ed29716",
   "metadata": {
    "scrolled": false
   },
   "outputs": [],
   "source": [
    "k = torch.cat((torch.ones((num_tetra, 1, 4)), coords_vertex_tetra), dim=1).inverse()"
   ]
  },
  {
   "cell_type": "code",
   "execution_count": 320,
   "id": "30f1e8c1",
   "metadata": {},
   "outputs": [
    {
     "data": {
      "text/plain": [
       "torch.Size([4310, 4, 4])"
      ]
     },
     "execution_count": 320,
     "metadata": {},
     "output_type": "execute_result"
    }
   ],
   "source": [
    "k.shape"
   ]
  },
  {
   "cell_type": "code",
   "execution_count": 321,
   "id": "2aff833a",
   "metadata": {},
   "outputs": [],
   "source": [
    "n_index = torch.ones((num_tetra, 4))"
   ]
  },
  {
   "cell_type": "code",
   "execution_count": 322,
   "id": "994d9ab0",
   "metadata": {},
   "outputs": [],
   "source": [
    "ab = torch.bmm(torch.transpose(k, 1, 2), n_index.unsqueeze(-1))\n",
    "a = ab[:,0,0]\n",
    "b = ab[:, 1:, 0]"
   ]
  },
  {
   "cell_type": "code",
   "execution_count": 324,
   "id": "8903dd18",
   "metadata": {},
   "outputs": [],
   "source": [
    "n = b/b.norm()"
   ]
  },
  {
   "cell_type": "code",
   "execution_count": 323,
   "id": "30941b87",
   "metadata": {},
   "outputs": [
    {
     "data": {
      "text/plain": [
       "torch.Size([4310, 4, 1])"
      ]
     },
     "execution_count": 323,
     "metadata": {},
     "output_type": "execute_result"
    }
   ],
   "source": [
    "ab.shape"
   ]
  },
  {
   "cell_type": "code",
   "execution_count": 325,
   "id": "7da807f5",
   "metadata": {},
   "outputs": [
    {
     "data": {
      "text/plain": [
       "(torch.Size([4310, 3]), torch.Size([4310, 3]))"
      ]
     },
     "execution_count": 325,
     "metadata": {},
     "output_type": "execute_result"
    }
   ],
   "source": [
    "b.shape, n.shape"
   ]
  },
  {
   "cell_type": "code",
   "execution_count": 326,
   "id": "c6ffaa10",
   "metadata": {},
   "outputs": [],
   "source": [
    "data.n = n\n",
    "data.k = k\n",
    "data.a = a\n",
    "data.b = b\n",
    "data.n_index = n_index"
   ]
  },
  {
   "cell_type": "markdown",
   "id": "825873f0",
   "metadata": {},
   "source": [
    "Encontrar el tetraedro inicial"
   ]
  },
  {
   "cell_type": "code",
   "execution_count": 332,
   "id": "4f72547a",
   "metadata": {},
   "outputs": [],
   "source": [
    "rp = torch.tensor([[0, 0., 0.], [0, 0., 0.]])\n",
    "m = torch.tensor([[1, 0, 0], [-1, 0, 0]], dtype=torch.float32)"
   ]
  },
  {
   "cell_type": "code",
   "execution_count": 340,
   "id": "fb3adf00",
   "metadata": {},
   "outputs": [],
   "source": [
    "tetra_idx = find_tetrahedron_point(data, rp)"
   ]
  },
  {
   "cell_type": "code",
   "execution_count": 341,
   "id": "e5b34bbf",
   "metadata": {},
   "outputs": [
    {
     "data": {
      "text/plain": [
       "tensor([[ 234,    0],\n",
       "        [ 234,    1],\n",
       "        [ 252,    0],\n",
       "        [ 252,    1],\n",
       "        [2007,    0],\n",
       "        [2007,    1],\n",
       "        [3729,    0],\n",
       "        [3729,    1],\n",
       "        [4129,    0],\n",
       "        [4129,    1],\n",
       "        [4278,    0],\n",
       "        [4278,    1]])"
      ]
     },
     "execution_count": 341,
     "metadata": {},
     "output_type": "execute_result"
    }
   ],
   "source": [
    "tetra_idx"
   ]
  },
  {
   "cell_type": "code",
   "execution_count": 329,
   "id": "7a911ef4",
   "metadata": {},
   "outputs": [
    {
     "ename": "RuntimeError",
     "evalue": "inconsistent tensors dimensions input: 2 other: 1",
     "output_type": "error",
     "traceback": [
      "\u001b[0;31m---------------------------------------------------------------------------\u001b[0m",
      "\u001b[0;31mRuntimeError\u001b[0m                              Traceback (most recent call last)",
      "\u001b[0;32m/var/folders/j5/2kb97vcj1t1bcqgjpt3y9k7w0000gn/T/ipykernel_1356/3513602122.py\u001b[0m in \u001b[0;36m<module>\u001b[0;34m\u001b[0m\n\u001b[1;32m      5\u001b[0m \u001b[0mn\u001b[0m \u001b[0;34m=\u001b[0m \u001b[0mdata\u001b[0m\u001b[0;34m.\u001b[0m\u001b[0mn\u001b[0m\u001b[0;34m[\u001b[0m\u001b[0mtetra_idx\u001b[0m\u001b[0;34m]\u001b[0m\u001b[0;34m\u001b[0m\u001b[0;34m\u001b[0m\u001b[0m\n\u001b[1;32m      6\u001b[0m \u001b[0;34m\u001b[0m\u001b[0m\n\u001b[0;32m----> 7\u001b[0;31m \u001b[0mmn\u001b[0m \u001b[0;34m=\u001b[0m \u001b[0mtorch\u001b[0m\u001b[0;34m.\u001b[0m\u001b[0mcross\u001b[0m\u001b[0;34m(\u001b[0m\u001b[0mm\u001b[0m\u001b[0;34m,\u001b[0m \u001b[0mn\u001b[0m\u001b[0;34m)\u001b[0m\u001b[0;34m\u001b[0m\u001b[0;34m\u001b[0m\u001b[0m\n\u001b[0m\u001b[1;32m      8\u001b[0m \u001b[0mq\u001b[0m \u001b[0;34m=\u001b[0m \u001b[0mmn\u001b[0m \u001b[0;34m/\u001b[0m \u001b[0mtorch\u001b[0m\u001b[0;34m.\u001b[0m\u001b[0msqrt\u001b[0m\u001b[0;34m(\u001b[0m\u001b[0mbatch_dot\u001b[0m\u001b[0;34m(\u001b[0m\u001b[0mmn\u001b[0m\u001b[0;34m,\u001b[0m \u001b[0mmn\u001b[0m\u001b[0;34m)\u001b[0m\u001b[0;34m)\u001b[0m\u001b[0;34m\u001b[0m\u001b[0;34m\u001b[0m\u001b[0m\n\u001b[1;32m      9\u001b[0m \u001b[0mnq\u001b[0m \u001b[0;34m=\u001b[0m \u001b[0mtorch\u001b[0m\u001b[0;34m.\u001b[0m\u001b[0mcross\u001b[0m\u001b[0;34m(\u001b[0m\u001b[0mn\u001b[0m\u001b[0;34m,\u001b[0m \u001b[0mq\u001b[0m\u001b[0;34m)\u001b[0m\u001b[0;34m\u001b[0m\u001b[0;34m\u001b[0m\u001b[0m\n",
      "\u001b[0;31mRuntimeError\u001b[0m: inconsistent tensors dimensions input: 2 other: 1"
     ]
    }
   ],
   "source": [
    "k = data.k[tetra_idx]\n",
    "a = data.a[tetra_idx]\n",
    "b = data.b[tetra_idx]\n",
    "p = data.pos[data.tetra[:, tetra_idx]]\n",
    "n = data.n[tetra_idx]\n",
    "\n",
    "mn = torch.cross(m, n)\n",
    "q = mn / torch.sqrt(batch_dot(mn, mn))\n",
    "nq = torch.cross(n, q)\n",
    "mn_dot = batch_dot(m, n)\n",
    "rc = rp - (batch_dot(rp, n) + a/b.norm())*(n - (mn_dot * nq) / batch_dot(m, nq))\n",
    "R = rc - rp\n",
    "\n",
    "phiR = torch.zeros((bs, 4))\n",
    "combs = list(combinations(range(4), 3))\n",
    "for it, (ii, ij, ik) in enumerate(combs):\n",
    "    i = p[:, ii]\n",
    "    j = p[:, ij]\n",
    "    k = p[:, ik]\n",
    "\n",
    "    M_L0 = (j[:, 1] - i[:, 1]) * (k[:, 2] - i[:, 2]) - (k[:, 1] - i[:, 1]) * (j[:, 2] - i[:, 2])\n",
    "    M_L1 = (j[:, 2] - i[:, 2]) * (k[:, 0] - i[:, 0]) - (k[:, 2] - i[:, 2]) * (j[:, 0] - i[:, 0])\n",
    "    M_L2 = (j[:, 0] - i[:, 0]) * (k[:, 1] - i[:, 1]) - (k[:, 0] - i[:, 0]) * (j[:, 1] - i[:, 1])\n",
    "    M_L = torch.stack((M_L0, M_L1, M_L2), dim=1)\n",
    "    Q_L = - batch_dot(i, M_L)\n",
    "\n",
    "    c1 = - batch_dot(M_L, R)\n",
    "    c2 = R.norm() * batch_dot(M_L, m)\n",
    "    c3 = batch_dot(M_L, rc) + Q_L\n",
    "\n",
    "    if c1 == c3:\n",
    "        phi1 = -2*torch.atan(c1/c2)\n",
    "        phi2 = phi1\n",
    "    else:\n",
    "        phi1 = 2 * torch.atan((c2 + torch.sqrt(c1.pow(2) + c2.pow(2) - c3.pow(2)))/(c1-c3))\n",
    "        phi2 = 2 * torch.atan((c2 - torch.sqrt(c1.pow(2) + c2.pow(2) - c3.pow(2)))/(c1-c3))\n",
    "    phi1 = wrap_to_2pi(phi1)\n",
    "    phi2 = wrap_to_2pi(phi2)\n",
    "    phiR[:, it] = min(phi1, phi2)\n",
    "\n",
    "phiR = torch.nan_to_num(phiR, nan=10)\n",
    "phiE, idx_face = torch.min(phiR, dim=1)\n",
    "re = rc - torch.cos(phiE) * R + R.norm()*torch.sin(phiE)*m\n",
    "me = torch.cos(phiE)*m + torch.sin(phiE)/R.norm() * R"
   ]
  },
  {
   "cell_type": "code",
   "execution_count": 308,
   "id": "e918ed5d",
   "metadata": {},
   "outputs": [
    {
     "data": {
      "text/plain": [
       "(torch.Size([1, 3]), torch.Size([3]))"
      ]
     },
     "execution_count": 308,
     "metadata": {},
     "output_type": "execute_result"
    }
   ],
   "source": [
    "m.shape, n.shape"
   ]
  },
  {
   "cell_type": "code",
   "execution_count": null,
   "id": "6171d99c",
   "metadata": {},
   "outputs": [],
   "source": []
  }
 ],
 "metadata": {
  "kernelspec": {
   "display_name": "Python 3 (ipykernel)",
   "language": "python",
   "name": "python3"
  },
  "language_info": {
   "codemirror_mode": {
    "name": "ipython",
    "version": 3
   },
   "file_extension": ".py",
   "mimetype": "text/x-python",
   "name": "python",
   "nbconvert_exporter": "python",
   "pygments_lexer": "ipython3",
   "version": "3.7.11"
  }
 },
 "nbformat": 4,
 "nbformat_minor": 5
}
