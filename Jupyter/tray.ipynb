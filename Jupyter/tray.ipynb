{
 "cells": [
  {
   "cell_type": "code",
   "execution_count": 120,
   "id": "99699e5d",
   "metadata": {},
   "outputs": [],
   "source": [
    "import torch\n",
    "import matplotlib.pyplot as plt\n",
    "%matplotlib inline"
   ]
  },
  {
   "cell_type": "code",
   "execution_count": 121,
   "id": "ccfa61d5",
   "metadata": {},
   "outputs": [],
   "source": [
    "all_coords = torch.tensor([[[0,0,0],[1,1,0],[3,2,0],[5,5,0],[6,3,0]],\n",
    "                           [[0,0,0],[1,1,0],[3,2,0],[5,5,0],[6,3,0]]], dtype=torch.float32)"
   ]
  },
  {
   "cell_type": "code",
   "execution_count": 122,
   "id": "58228d1d",
   "metadata": {},
   "outputs": [
    {
     "data": {
      "text/plain": [
       "<matplotlib.collections.PathCollection at 0x7f83ba4c5710>"
      ]
     },
     "execution_count": 122,
     "metadata": {},
     "output_type": "execute_result"
    },
    {
     "data": {
      "image/png": "[encoded data removed]",
      "text/plain": [
       "<Figure size 432x288 with 1 Axes>"
      ]
     },
     "metadata": {
      "needs_background": "light"
     },
     "output_type": "display_data"
    }
   ],
   "source": [
    "plt.scatter(all_coords[0,:,0], all_coords[0,:,1])"
   ]
  },
  {
   "cell_type": "markdown",
   "id": "76ea21c7",
   "metadata": {},
   "source": [
    "### Build D "
   ]
  },
  {
   "cell_type": "code",
   "execution_count": 123,
   "id": "08e6a77b",
   "metadata": {},
   "outputs": [],
   "source": [
    "d = torch.zeros(all_coords.shape[:2])"
   ]
  },
  {
   "cell_type": "code",
   "execution_count": 124,
   "id": "ec330bb4",
   "metadata": {},
   "outputs": [],
   "source": [
    "for i in range(1, all_coords.shape[1]):\n",
    "    temp_dis = torch.norm(all_coords[:,i] - all_coords[:,i-1], dim=1)\n",
    "    d[:,i] = d[:,i-1] + temp_dis"
   ]
  },
  {
   "cell_type": "code",
   "execution_count": 125,
   "id": "6eeb3eba",
   "metadata": {
    "scrolled": true
   },
   "outputs": [
    {
     "data": {
      "text/plain": [
       "tensor([[0.0000, 1.4142, 3.6503, 7.2558, 9.4919],\n",
       "        [0.0000, 1.4142, 3.6503, 7.2558, 9.4919]])"
      ]
     },
     "execution_count": 125,
     "metadata": {},
     "output_type": "execute_result"
    }
   ],
   "source": [
    "d"
   ]
  },
  {
   "cell_type": "code",
   "execution_count": 126,
   "id": "7cb2ea54",
   "metadata": {},
   "outputs": [],
   "source": [
    "t = torch.tensor([[2.5, 5.6, 9.0], [2.5, 5.6, 9.0]])"
   ]
  },
  {
   "cell_type": "code",
   "execution_count": 127,
   "id": "daaf3945",
   "metadata": {},
   "outputs": [],
   "source": [
    "tminusd = torch.abs(t.unsqueeze(-1) - d.unsqueeze(1))"
   ]
  },
  {
   "cell_type": "code",
   "execution_count": 128,
   "id": "cef7469a",
   "metadata": {},
   "outputs": [
    {
     "data": {
      "text/plain": [
       "tensor([[[2.5000, 1.0858, 1.1503, 4.7558, 6.9919],\n",
       "         [5.6000, 4.1858, 1.9497, 1.6558, 3.8919],\n",
       "         [9.0000, 7.5858, 5.3497, 1.7442, 0.4919]],\n",
       "\n",
       "        [[2.5000, 1.0858, 1.1503, 4.7558, 6.9919],\n",
       "         [5.6000, 4.1858, 1.9497, 1.6558, 3.8919],\n",
       "         [9.0000, 7.5858, 5.3497, 1.7442, 0.4919]]])"
      ]
     },
     "execution_count": 128,
     "metadata": {},
     "output_type": "execute_result"
    }
   ],
   "source": [
    "tminusd"
   ]
  },
  {
   "cell_type": "code",
   "execution_count": 129,
   "id": "98234667",
   "metadata": {},
   "outputs": [],
   "source": [
    "idx_top = torch.topk(tminusd, k=2, largest=False, sorted=False)"
   ]
  },
  {
   "cell_type": "code",
   "execution_count": 130,
   "id": "7670a773",
   "metadata": {},
   "outputs": [
    {
     "data": {
      "text/plain": [
       "tensor([[[1.0858, 1.1503],\n",
       "         [1.6558, 1.9497],\n",
       "         [0.4919, 1.7442]],\n",
       "\n",
       "        [[1.0858, 1.1503],\n",
       "         [1.6558, 1.9497],\n",
       "         [0.4919, 1.7442]]])"
      ]
     },
     "execution_count": 130,
     "metadata": {},
     "output_type": "execute_result"
    }
   ],
   "source": [
    "idx_top.values"
   ]
  },
  {
   "cell_type": "code",
   "execution_count": 131,
   "id": "4489abd6",
   "metadata": {
    "scrolled": true
   },
   "outputs": [
    {
     "data": {
      "text/plain": [
       "torch.Size([2, 3, 2])"
      ]
     },
     "execution_count": 131,
     "metadata": {},
     "output_type": "execute_result"
    }
   ],
   "source": [
    "idx_top.indices.shape"
   ]
  },
  {
   "cell_type": "code",
   "execution_count": 132,
   "id": "ae8cf705",
   "metadata": {},
   "outputs": [],
   "source": [
    "def gather_batch(input, index):\n",
    "    b, t, p = index.shape\n",
    "    _, _, c = input.shape\n",
    "    output = torch.zeros((b, t, p, c))\n",
    "    \n",
    "    for i, (val, idx) in enumerate(zip(input, index)):\n",
    "        output[i] = val[idx]\n",
    "    \n",
    "    return output"
   ]
  },
  {
   "cell_type": "code",
   "execution_count": 133,
   "id": "5c583f01",
   "metadata": {},
   "outputs": [],
   "source": [
    "coords = gather_batch(all_coords, idx_top.indices)"
   ]
  },
  {
   "cell_type": "markdown",
   "id": "a7be80f1",
   "metadata": {},
   "source": [
    "### M"
   ]
  },
  {
   "cell_type": "code",
   "execution_count": 134,
   "id": "b77b0d28",
   "metadata": {},
   "outputs": [
    {
     "data": {
      "text/plain": [
       "torch.Size([2, 3, 2, 3])"
      ]
     },
     "execution_count": 134,
     "metadata": {},
     "output_type": "execute_result"
    }
   ],
   "source": [
    "coords.shape"
   ]
  },
  {
   "cell_type": "code",
   "execution_count": 135,
   "id": "94398d3a",
   "metadata": {},
   "outputs": [],
   "source": [
    "m = (coords[:,:,1] - coords[:,:,0])/t.unsqueeze(-1)"
   ]
  },
  {
   "cell_type": "code",
   "execution_count": 136,
   "id": "b21f0e08",
   "metadata": {},
   "outputs": [
    {
     "data": {
      "text/plain": [
       "torch.Size([2, 3, 3])"
      ]
     },
     "execution_count": 136,
     "metadata": {},
     "output_type": "execute_result"
    }
   ],
   "source": [
    "m.shape"
   ]
  },
  {
   "cell_type": "code",
   "execution_count": 137,
   "id": "5da03709",
   "metadata": {},
   "outputs": [],
   "source": [
    "m = m/m.norm(dim=-1, keepdim=True)"
   ]
  },
  {
   "cell_type": "code",
   "execution_count": 138,
   "id": "6dcd0046",
   "metadata": {},
   "outputs": [
    {
     "data": {
      "text/plain": [
       "torch.Size([2, 3, 5])"
      ]
     },
     "execution_count": 138,
     "metadata": {},
     "output_type": "execute_result"
    }
   ],
   "source": [
    "tminusd.shape"
   ]
  },
  {
   "cell_type": "code",
   "execution_count": 139,
   "id": "4a584e0c",
   "metadata": {},
   "outputs": [],
   "source": [
    "final_coords = coords[:,:,0] + t.unsqueeze(-1).repeat_interleave(3, dim=-1)*m"
   ]
  },
  {
   "cell_type": "code",
   "execution_count": 140,
   "id": "29f92080",
   "metadata": {},
   "outputs": [],
   "source": [
    "final_coords = coords[:,:,0] + idx_top.values[...,:1].repeat_interleave(3, dim=-1)*m"
   ]
  },
  {
   "cell_type": "code",
   "execution_count": 141,
   "id": "9aa27f28",
   "metadata": {},
   "outputs": [
    {
     "data": {
      "text/plain": [
       "(torch.Size([2, 3, 1]), torch.Size([2, 3, 3]))"
      ]
     },
     "execution_count": 141,
     "metadata": {},
     "output_type": "execute_result"
    }
   ],
   "source": [
    "idx_top.values[...,:1].shape, m.shape"
   ]
  },
  {
   "cell_type": "code",
   "execution_count": 142,
   "id": "f4b5ccfd",
   "metadata": {},
   "outputs": [
    {
     "data": {
      "text/plain": [
       "tensor([[[1.9712, 1.4856, 0.0000],\n",
       "         [4.0815, 3.6223, 0.0000],\n",
       "         [5.7800, 3.4400, 0.0000]],\n",
       "\n",
       "        [[1.9712, 1.4856, 0.0000],\n",
       "         [4.0815, 3.6223, 0.0000],\n",
       "         [5.7800, 3.4400, 0.0000]]])"
      ]
     },
     "execution_count": 142,
     "metadata": {},
     "output_type": "execute_result"
    }
   ],
   "source": [
    " final_coords"
   ]
  },
  {
   "cell_type": "code",
   "execution_count": 143,
   "id": "8208ee13",
   "metadata": {},
   "outputs": [
    {
     "data": {
      "text/plain": [
       "<matplotlib.collections.PathCollection at 0x7f83ba551310>"
      ]
     },
     "execution_count": 143,
     "metadata": {},
     "output_type": "execute_result"
    },
    {
     "data": {
      "image/png": "[encoded data removed]",
      "text/plain": [
       "<Figure size 432x288 with 1 Axes>"
      ]
     },
     "metadata": {
      "needs_background": "light"
     },
     "output_type": "display_data"
    }
   ],
   "source": [
    "plt.scatter(all_coords[0,:,0], all_coords[0,:,1])\n",
    "plt.scatter(final_coords[0,:,0], final_coords[0,:,1])"
   ]
  },
  {
   "cell_type": "code",
   "execution_count": null,
   "id": "85f9bd95",
   "metadata": {},
   "outputs": [],
   "source": []
  }
 ],
 "metadata": {
  "kernelspec": {
   "display_name": "Python [conda env:torch16] *",
   "language": "python",
   "name": "conda-env-torch16-py"
  },
  "language_info": {
   "codemirror_mode": {
    "name": "ipython",
    "version": 3
   },
   "file_extension": ".py",
   "mimetype": "text/x-python",
   "name": "python",
   "nbconvert_exporter": "python",
   "pygments_lexer": "ipython3",
   "version": "3.7.10"
  }
 },
 "nbformat": 4,
 "nbformat_minor": 5
}
