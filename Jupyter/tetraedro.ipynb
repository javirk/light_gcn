{
 "cells": [
  {
   "cell_type": "code",
   "execution_count": 1,
   "id": "0a13b0da",
   "metadata": {},
   "outputs": [],
   "source": [
    "import torch\n",
    "from itertools import combinations\n",
    "import numpy as np"
   ]
  },
  {
   "cell_type": "code",
   "execution_count": 2,
   "id": "3ac34b5e",
   "metadata": {},
   "outputs": [],
   "source": [
    "m = torch.tensor([[1, 0, 0]], dtype=torch.float32)\n",
    "rp = torch.tensor([[0.5, 0., 1.]])\n",
    "v = torch.tensor([[1, 1.5, 1.5, 1.5]])\n",
    "p = torch.tensor([[[0, 0, 0],\n",
    "                   [2, 2, 2],\n",
    "                   [-2, 2, 2],\n",
    "                   [0, -2, 2]]], dtype=torch.float32)"
   ]
  },
  {
   "cell_type": "code",
   "execution_count": 3,
   "id": "064122e1",
   "metadata": {},
   "outputs": [
    {
     "data": {
      "text/plain": [
       "torch.Size([1, 4, 3])"
      ]
     },
     "execution_count": 3,
     "metadata": {},
     "output_type": "execute_result"
    }
   ],
   "source": [
    "p.shape"
   ]
  },
  {
   "cell_type": "code",
   "execution_count": 4,
   "id": "e0ef7570",
   "metadata": {},
   "outputs": [],
   "source": [
    "bs = m.shape[0]"
   ]
  },
  {
   "cell_type": "markdown",
   "id": "828482b0",
   "metadata": {},
   "source": [
    "1. Formar K"
   ]
  },
  {
   "cell_type": "code",
   "execution_count": 5,
   "id": "fb89b72d",
   "metadata": {},
   "outputs": [],
   "source": [
    "k = torch.cat((torch.ones((1,1,4)), torch.transpose(p, 1, 2)), dim=1).inverse()"
   ]
  },
  {
   "cell_type": "markdown",
   "id": "7a39a82d",
   "metadata": {},
   "source": [
    "2. Calcular plano"
   ]
  },
  {
   "cell_type": "code",
   "execution_count": 6,
   "id": "450b6a7a",
   "metadata": {},
   "outputs": [],
   "source": [
    "ab = torch.bmm(torch.transpose(k, 1, 2), v.unsqueeze(-1))\n",
    "a = ab[:,0,0]\n",
    "b = ab[:, 1:, 0]"
   ]
  },
  {
   "cell_type": "code",
   "execution_count": 7,
   "id": "3ff22ff7",
   "metadata": {},
   "outputs": [
    {
     "data": {
      "text/plain": [
       "(tensor([1.]), tensor([[0.0000, 0.0000, 0.2500]]))"
      ]
     },
     "execution_count": 7,
     "metadata": {},
     "output_type": "execute_result"
    }
   ],
   "source": [
    "a,b"
   ]
  },
  {
   "cell_type": "markdown",
   "id": "f9058802",
   "metadata": {},
   "source": [
    "3. Evaluar n"
   ]
  },
  {
   "cell_type": "code",
   "execution_count": 8,
   "id": "a608a2a6",
   "metadata": {},
   "outputs": [],
   "source": [
    "n = b/b.norm()"
   ]
  },
  {
   "cell_type": "markdown",
   "id": "cfddcd23",
   "metadata": {},
   "source": [
    "4. Calcular q, R, rc"
   ]
  },
  {
   "cell_type": "code",
   "execution_count": 9,
   "id": "b464581c",
   "metadata": {},
   "outputs": [],
   "source": [
    "def batch_dot(v1, v2):\n",
    "    return torch.einsum('b d, b d -> b', v1, v2)"
   ]
  },
  {
   "cell_type": "code",
   "execution_count": 10,
   "id": "6cf917a8",
   "metadata": {},
   "outputs": [],
   "source": [
    "mn = torch.cross(m, n)\n",
    "q = mn / torch.sqrt(batch_dot(mn, mn))"
   ]
  },
  {
   "cell_type": "code",
   "execution_count": 11,
   "id": "bde736c9",
   "metadata": {},
   "outputs": [],
   "source": [
    "nq = torch.cross(n, q)\n",
    "mn_dot = batch_dot(m, n)\n",
    "rc = rp - (batch_dot(rp, n) + a/b.norm())*(n - (mn_dot * nq) / batch_dot(m, nq))"
   ]
  },
  {
   "cell_type": "code",
   "execution_count": 12,
   "id": "823cedb0",
   "metadata": {},
   "outputs": [],
   "source": [
    "R = rc - rp"
   ]
  },
  {
   "cell_type": "markdown",
   "id": "8cbdd5c3",
   "metadata": {},
   "source": [
    "5. Calcular M_L, Q_L"
   ]
  },
  {
   "cell_type": "code",
   "execution_count": 13,
   "id": "48652217",
   "metadata": {},
   "outputs": [],
   "source": [
    "i = p[:, 1]\n",
    "j = p[:, 2]\n",
    "k = p[:, 3]\n",
    "M_L0 = (j[:, 1] - i[:, 1]) * (k[:, 2] - i[:, 2]) - (k[:, 1] - i[:, 1]) * (j[:, 2] - i[:, 2])\n",
    "M_L1 = (j[:, 2] - i[:, 2]) * (k[:, 0] - i[:, 0]) - (k[:, 2] - i[:, 2]) * (j[:, 0] - i[:, 0])\n",
    "M_L2 = (j[:, 0] - i[:, 0]) * (k[:, 1] - i[:, 1]) - (k[:, 0] - i[:, 0]) * (j[:, 1] - i[:, 1])\n",
    "M_L = torch.stack((M_L0, M_L1, M_L2), dim=1)\n",
    "Q_L = - batch_dot(i, M_L)"
   ]
  },
  {
   "cell_type": "markdown",
   "id": "60989c16",
   "metadata": {},
   "source": [
    "6. Resolver la ecuación para sacar el ángulo"
   ]
  },
  {
   "cell_type": "code",
   "execution_count": 14,
   "id": "69f3b1aa",
   "metadata": {},
   "outputs": [],
   "source": [
    "c1 = - batch_dot(M_L, R)\n",
    "c2 = R.norm() * batch_dot(M_L, m)\n",
    "c3 = batch_dot(M_L, rc) + Q_L"
   ]
  },
  {
   "cell_type": "code",
   "execution_count": 15,
   "id": "acfa4ff2",
   "metadata": {},
   "outputs": [
    {
     "data": {
      "text/plain": [
       "(tensor([80.]), tensor([0.]), tensor([-96.]))"
      ]
     },
     "execution_count": 15,
     "metadata": {},
     "output_type": "execute_result"
    }
   ],
   "source": [
    "c1, c2, c3"
   ]
  },
  {
   "cell_type": "code",
   "execution_count": 16,
   "id": "6173da1a",
   "metadata": {},
   "outputs": [],
   "source": [
    "if c1 == c3:\n",
    "    phi1 = -2*torch.atan(c1/c2)\n",
    "    phi2 = phi1\n",
    "else:\n",
    "    phi1 = 2 * torch.atan((c2 + torch.sqrt(c1.pow(2) + c2.pow(2) - c3.pow(2)))/(c1-c2))\n",
    "    phi2 = 2 * torch.atan((c2 - torch.sqrt(c1.pow(2) + c2.pow(2) - c3.pow(2)))/(c1-c2))"
   ]
  },
  {
   "cell_type": "markdown",
   "id": "7b6984c2",
   "metadata": {},
   "source": [
    "Ahora en formato bucle:"
   ]
  },
  {
   "cell_type": "code",
   "execution_count": 17,
   "id": "a5273c5a",
   "metadata": {},
   "outputs": [],
   "source": [
    "wrap_to_2pi = lambda x: x % (2 * np.pi) + (2 * np.pi) * (x == 0)"
   ]
  },
  {
   "cell_type": "code",
   "execution_count": 30,
   "id": "a832471a",
   "metadata": {},
   "outputs": [
    {
     "name": "stdout",
     "output_type": "stream",
     "text": [
      "0 1 2\n",
      "tensor([0.6435]) tensor([5.6397])\n",
      "0 1 3\n",
      "tensor([4.0689]) tensor([6.2832])\n",
      "0 2 3\n",
      "tensor([2.4063]) tensor([6.0912])\n",
      "1 2 3\n",
      "tensor([nan]) tensor([nan])\n"
     ]
    }
   ],
   "source": [
    "phiR = torch.zeros((bs, 4))\n",
    "combs = list(combinations(range(4), 3))\n",
    "for it, (ii, ij, ik) in enumerate(combs):\n",
    "    print(ii, ij, ik)\n",
    "    i = p[:, ii]\n",
    "    j = p[:, ij]\n",
    "    k = p[:, ik]\n",
    "    \n",
    "    M_L0 = (j[:, 1] - i[:, 1]) * (k[:, 2] - i[:, 2]) - (k[:, 1] - i[:, 1]) * (j[:, 2] - i[:, 2])\n",
    "    M_L1 = (j[:, 2] - i[:, 2]) * (k[:, 0] - i[:, 0]) - (k[:, 2] - i[:, 2]) * (j[:, 0] - i[:, 0])\n",
    "    M_L2 = (j[:, 0] - i[:, 0]) * (k[:, 1] - i[:, 1]) - (k[:, 0] - i[:, 0]) * (j[:, 1] - i[:, 1])\n",
    "    M_L = torch.stack((M_L0, M_L1, M_L2), dim=1)\n",
    "    Q_L = - batch_dot(i, M_L)\n",
    "    \n",
    "    c1 = - batch_dot(M_L, R)\n",
    "    c2 = R.norm() * batch_dot(M_L, m)\n",
    "    c3 = batch_dot(M_L, rc) + Q_L\n",
    "    \n",
    "    if c1 == c3:\n",
    "        phi1 = -2*torch.atan(c1/c2)\n",
    "        phi2 = phi1\n",
    "    else:\n",
    "        phi1 = 2 * torch.atan((c2 + torch.sqrt(c1.pow(2) + c2.pow(2) - c3.pow(2)))/(c1-c3))\n",
    "        phi2 = 2 * torch.atan((c2 - torch.sqrt(c1.pow(2) + c2.pow(2) - c3.pow(2)))/(c1-c3))\n",
    "    #print(phi1,phi2)\n",
    "    phi1 = wrap_to_2pi(phi1)\n",
    "    phi2 = wrap_to_2pi(phi2)\n",
    "    print(phi1,phi2)\n",
    "    phiR[:, it] = min(phi1, phi2)"
   ]
  },
  {
   "cell_type": "code",
   "execution_count": 19,
   "id": "f9de7da3",
   "metadata": {},
   "outputs": [],
   "source": [
    "phiR = torch.nan_to_num(phiR, nan=10)\n",
    "phiE, idx_face = torch.min(phiR, dim=1)"
   ]
  },
  {
   "cell_type": "code",
   "execution_count": 20,
   "id": "888196cd",
   "metadata": {},
   "outputs": [
    {
     "data": {
      "text/plain": [
       "(0, 1, 2)"
      ]
     },
     "execution_count": 20,
     "metadata": {},
     "output_type": "execute_result"
    }
   ],
   "source": [
    "combs[idx_face]"
   ]
  },
  {
   "cell_type": "code",
   "execution_count": 21,
   "id": "b81fe377",
   "metadata": {},
   "outputs": [
    {
     "data": {
      "text/plain": [
       "tensor([0.6435])"
      ]
     },
     "execution_count": 21,
     "metadata": {},
     "output_type": "execute_result"
    }
   ],
   "source": [
    "phiE"
   ]
  },
  {
   "cell_type": "markdown",
   "id": "4c47d49b",
   "metadata": {},
   "source": [
    "7. Punto de salida y dirección"
   ]
  },
  {
   "cell_type": "code",
   "execution_count": 28,
   "id": "fd88f187",
   "metadata": {},
   "outputs": [],
   "source": [
    "re = rc - torch.cos(-phiE) * R + R.norm()*torch.sin(-phiE)*m"
   ]
  },
  {
   "cell_type": "code",
   "execution_count": 29,
   "id": "5d979400",
   "metadata": {},
   "outputs": [
    {
     "data": {
      "text/plain": [
       "tensor([[-2.5000,  0.0000,  0.0000]])"
      ]
     },
     "execution_count": 29,
     "metadata": {},
     "output_type": "execute_result"
    }
   ],
   "source": [
    "re"
   ]
  },
  {
   "cell_type": "markdown",
   "id": "aff42b73",
   "metadata": {},
   "source": [
    "Hay algo mal :("
   ]
  },
  {
   "cell_type": "code",
   "execution_count": 24,
   "id": "0670945b",
   "metadata": {},
   "outputs": [
    {
     "data": {
      "text/plain": [
       "(tensor([[ 0.,  0., -5.]]), tensor(5.))"
      ]
     },
     "execution_count": 24,
     "metadata": {},
     "output_type": "execute_result"
    }
   ],
   "source": [
    "R, R.norm()"
   ]
  },
  {
   "cell_type": "code",
   "execution_count": 25,
   "id": "9f3a2ee5",
   "metadata": {},
   "outputs": [],
   "source": [
    "me = torch.cos(phiE)*m + torch.sin(phiE)/R.norm() * R"
   ]
  },
  {
   "cell_type": "code",
   "execution_count": 26,
   "id": "41ab27e8",
   "metadata": {},
   "outputs": [
    {
     "data": {
      "text/plain": [
       "tensor([[ 0.8000,  0.0000, -0.6000]])"
      ]
     },
     "execution_count": 26,
     "metadata": {},
     "output_type": "execute_result"
    }
   ],
   "source": [
    "me"
   ]
  }
 ],
 "metadata": {
  "kernelspec": {
   "display_name": "Python 3",
   "language": "python",
   "name": "python3"
  },
  "language_info": {
   "codemirror_mode": {
    "name": "ipython",
    "version": 3
   },
   "file_extension": ".py",
   "mimetype": "text/x-python",
   "name": "python",
   "nbconvert_exporter": "python",
   "pygments_lexer": "ipython3",
   "version": "3.8.10"
  }
 },
 "nbformat": 4,
 "nbformat_minor": 5
}
