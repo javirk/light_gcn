{
 "cells": [
  {
   "cell_type": "code",
   "execution_count": 1,
   "id": "c65fbc3a",
   "metadata": {},
   "outputs": [],
   "source": [
    "import meshio\n",
    "import torch\n",
    "import torch_geometric\n",
    "from torch_geometric.data import Data\n",
    "from torch_geometric.utils import to_undirected\n",
    "from torch_geometric.transforms import FaceToEdge\n",
    "import matplotlib.pyplot as plt"
   ]
  },
  {
   "cell_type": "code",
   "execution_count": 2,
   "id": "a9b17848",
   "metadata": {},
   "outputs": [],
   "source": [
    "class TetraToEdge(object):\n",
    "    r\"\"\"Converts mesh tetras :obj:`[4, num_tetras]` to edge indices\n",
    "    :obj:`[2, num_edges]`.\n",
    "    Args:\n",
    "        remove_tetras (bool, optional): If set to :obj:`False`, the tetra tensor\n",
    "            will not be removed.\n",
    "    \"\"\"\n",
    "\n",
    "    def __init__(self, remove_tetras=True):\n",
    "        self.remove_tetras = remove_tetras\n",
    "\n",
    "    def __call__(self, data):\n",
    "        if data.tetra is not None:\n",
    "            tetra = data.tetra\n",
    "            edge_index = torch.cat([tetra[:2], tetra[1:3, :], tetra[-2:], tetra[::2], tetra[::3], tetra[1::2]], dim=1)\n",
    "            edge_index = to_undirected(edge_index, num_nodes=data.num_nodes)\n",
    "\n",
    "            data.edge_index = edge_index\n",
    "            if self.remove_tetras:\n",
    "                data.tetra = None\n",
    "\n",
    "        return data\n",
    "\n",
    "    def __repr__(self):\n",
    "        return '{}()'.format(self.__class__.__name__)"
   ]
  },
  {
   "cell_type": "code",
   "execution_count": 3,
   "id": "c4eea00c-a740-4691-b509-e6952e573037",
   "metadata": {},
   "outputs": [],
   "source": [
    "def from_meshio(mesh, mesh_type='2D'):\n",
    "    r\"\"\"Converts a :.msh file to a\n",
    "    :class:`torch_geometric.data.Data` instance.\n",
    "\n",
    "    Args:\n",
    "        mesh (meshio.read): A :obj:`meshio` mesh.\n",
    "    \"\"\"\n",
    "\n",
    "    if meshio is None:\n",
    "        raise ImportError('Package `meshio` could not be found.')\n",
    "\n",
    "    pos = torch.from_numpy(mesh.points).to(torch.float)\n",
    "    if mesh_type == '3D':\n",
    "        tetra = torch.from_numpy(mesh.cells_dict['tetra']).to(torch.long).t().contiguous()\n",
    "        return Data(pos=pos, tetra=tetra)\n",
    "    elif mesh_type == '2D':\n",
    "        face = torch.from_numpy(mesh.cells_dict['triangle']).to(torch.long).t().contiguous()\n",
    "        return Data(pos=pos, face=face)"
   ]
  },
  {
   "cell_type": "code",
   "execution_count": 7,
   "id": "2b946547-0212-4d46-a7f6-c1c218c0ce29",
   "metadata": {},
   "outputs": [],
   "source": [
    "mesh_type = '3D'\n",
    "filename = '../meshes/sphere_coarse.msh'\n",
    "\n",
    "mesh = meshio.read(filename)\n",
    "\n",
    "data = from_meshio(mesh, mesh_type=mesh_type)\n",
    "if mesh_type == '2D':\n",
    "    data = FaceToEdge(remove_faces=False)(data)\n",
    "else:\n",
    "    data = TetraToEdge(remove_tetras=False)(data)"
   ]
  },
  {
   "cell_type": "markdown",
   "id": "61a50a41-b213-40e5-9327-d107c3dbb215",
   "metadata": {},
   "source": [
    "data.tetra tiene información de los índices de cada tetraedro. [vértices (4), tetraedros]"
   ]
  },
  {
   "cell_type": "code",
   "execution_count": 9,
   "id": "7cc862b8-428e-471f-b5fb-fe46b71edfdd",
   "metadata": {},
   "outputs": [
    {
     "data": {
      "text/plain": [
       "torch.Size([4, 4310])"
      ]
     },
     "execution_count": 9,
     "metadata": {},
     "output_type": "execute_result"
    }
   ],
   "source": [
    "data.tetra.shape"
   ]
  },
  {
   "cell_type": "code",
   "execution_count": 10,
   "id": "13305727-e0a3-4e64-aa87-14797851e33a",
   "metadata": {},
   "outputs": [
    {
     "data": {
      "text/plain": [
       "Data(pos=[1001, 3], tetra=[4, 4310], edge_index=[2, 11746])"
      ]
     },
     "execution_count": 10,
     "metadata": {},
     "output_type": "execute_result"
    }
   ],
   "source": [
    "data"
   ]
  },
  {
   "cell_type": "code",
   "execution_count": 11,
   "id": "860d6758-7b17-4f10-a43f-67c3c54e01e7",
   "metadata": {},
   "outputs": [],
   "source": [
    "idx_tetra = 1"
   ]
  },
  {
   "cell_type": "code",
   "execution_count": 12,
   "id": "3dcec552-4267-4da8-b67c-426eae9d2cdd",
   "metadata": {},
   "outputs": [
    {
     "data": {
      "text/plain": [
       "tensor([568, 688, 642, 694])"
      ]
     },
     "execution_count": 12,
     "metadata": {},
     "output_type": "execute_result"
    }
   ],
   "source": [
    "data.tetra[:,idx_tetra]"
   ]
  },
  {
   "cell_type": "code",
   "execution_count": 13,
   "id": "4d5ee239-03c9-47f5-862a-05f29a8eea80",
   "metadata": {},
   "outputs": [],
   "source": [
    "face_vertex = data.tetra[:,idx_tetra][:3]"
   ]
  },
  {
   "cell_type": "code",
   "execution_count": null,
   "id": "374b403b-10e7-419e-ba77-a791b07d2d41",
   "metadata": {},
   "outputs": [],
   "source": [
    "torch.where"
   ]
  }
 ],
 "metadata": {
  "kernelspec": {
   "display_name": "Python 3 (ipykernel)",
   "language": "python",
   "name": "python3"
  },
  "language_info": {
   "codemirror_mode": {
    "name": "ipython",
    "version": 3
   },
   "file_extension": ".py",
   "mimetype": "text/x-python",
   "name": "python",
   "nbconvert_exporter": "python",
   "pygments_lexer": "ipython3",
   "version": "3.7.11"
  }
 },
 "nbformat": 4,
 "nbformat_minor": 5
}
